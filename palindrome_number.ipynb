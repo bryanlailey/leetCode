{
  "nbformat": 4,
  "nbformat_minor": 0,
  "metadata": {
    "colab": {
      "provenance": [],
      "authorship_tag": "ABX9TyMSTNf+5dxGmmjapUTGMIyq",
      "include_colab_link": true
    },
    "kernelspec": {
      "name": "python3",
      "display_name": "Python 3"
    },
    "language_info": {
      "name": "python"
    }
  },
  "cells": [
    {
      "cell_type": "markdown",
      "metadata": {
        "id": "view-in-github",
        "colab_type": "text"
      },
      "source": [
        "<a href=\"https://colab.research.google.com/github/bryanlailey/leetCode/blob/main/palindrome_number.ipynb\" target=\"_parent\"><img src=\"https://colab.research.google.com/assets/colab-badge.svg\" alt=\"Open In Colab\"/></a>"
      ]
    },
    {
      "cell_type": "code",
      "execution_count": 57,
      "metadata": {
        "colab": {
          "base_uri": "https://localhost:8080/"
        },
        "id": "OIhIAT5YUEfC",
        "outputId": "8b1c9ab3-87d1-4c09-d8d0-c0647e7b0a09"
      },
      "outputs": [
        {
          "output_type": "execute_result",
          "data": {
            "text/plain": [
              "True"
            ]
          },
          "metadata": {},
          "execution_count": 57
        }
      ],
      "source": [
        "# Palindrome Number with the additional challenge of not converting the integer\n",
        "# to a string\n",
        "#\n",
        "# accepts integer x, returns true if the number is a palindrome, otherwise false\n",
        "# \n",
        "# example: 141 -> true, 142 -> false\n",
        "#\n",
        "# idea is to find the number of digits in the integer using log10 + 1\n",
        "# then loop as many times as the number of digits using modulo 10 to find the \n",
        "# last digit of the integer before storing and removing that last digit using \n",
        "# floor division by 10    \n",
        "# after looping, the original integer is compared to the reversed integer\n",
        "\n",
        "import math\n",
        "\n",
        "def is_palindrome(x):\n",
        "  if x == 0:\n",
        "    return(True)\n",
        "  else:\n",
        "    numdigits = math.floor(math.log10(abs(x)) + 1)\n",
        "    revx = 0\n",
        "    storagex = x\n",
        "    for i in range(numdigits):\n",
        "      revx = revx + 10**(numdigits - 1 - i) * (storagex % 10)\n",
        "      storagex = storagex // 10\n",
        "  \n",
        "  return(revx == x)\n",
        "\n",
        "\n",
        "is_palindrome(1001)\n",
        "\n"
      ]
    }
  ]
}