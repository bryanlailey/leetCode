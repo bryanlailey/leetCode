{
  "nbformat": 4,
  "nbformat_minor": 0,
  "metadata": {
    "colab": {
      "provenance": [],
      "authorship_tag": "ABX9TyNc15JY5NDgfFqVP8ARaN7k",
      "include_colab_link": true
    },
    "kernelspec": {
      "name": "python3",
      "display_name": "Python 3"
    },
    "language_info": {
      "name": "python"
    }
  },
  "cells": [
    {
      "cell_type": "markdown",
      "metadata": {
        "id": "view-in-github",
        "colab_type": "text"
      },
      "source": [
        "<a href=\"https://colab.research.google.com/github/bryanlailey/leetCode/blob/main/roman_to_integer.ipynb\" target=\"_parent\"><img src=\"https://colab.research.google.com/assets/colab-badge.svg\" alt=\"Open In Colab\"/></a>"
      ]
    },
    {
      "cell_type": "code",
      "execution_count": 9,
      "metadata": {
        "colab": {
          "base_uri": "https://localhost:8080/"
        },
        "id": "Vi0DBDqhWKTn",
        "outputId": "8aeb63e8-e0d8-4a5c-a55f-def12d6a44b4"
      },
      "outputs": [
        {
          "output_type": "execute_result",
          "data": {
            "text/plain": [
              "('IIII', 4)"
            ]
          },
          "metadata": {},
          "execution_count": 9
        }
      ],
      "source": [
        "# Roman to Integer problem\n",
        "#\n",
        "# accepts roman numeral s as a string, returns the associated integer\n",
        "# \n",
        "# example: \"III\" -> 3, IX -> 9\n",
        "#\n",
        "# idea is to use a dictionary to map each roman numeral to an integer\n",
        "# then handle the exceptions (e.g. IV is 4 not 1,5) using the replace\n",
        "# function\n",
        "# then loop over the characters in the roman numeral to add them all up\n",
        "\n",
        "def romanToInt(s):\n",
        "\n",
        "        s = s.replace(\"IV\",\"IIII\")\n",
        "        s = s.replace(\"IX\",\"VIIII\")\n",
        "        s = s.replace(\"XL\",\"XXXX\")\n",
        "        s = s.replace(\"XC\",\"LXXXX\")\n",
        "        s = s.replace(\"CD\",\"CCCC\")\n",
        "        s = s.replace(\"CM\",\"DCCCC\")\n",
        "        \n",
        "        romantointdict = dict(I = 1, V = 5, X = 10, L = 50, C = 100, D = 500, M = 1000)\n",
        "        total = 0\n",
        "        \n",
        "        for character in s:\n",
        "            total += romantointdict[character]\n",
        "        \n",
        "        return(s, total)\n",
        "\n"
      ]
    }
  ]
}