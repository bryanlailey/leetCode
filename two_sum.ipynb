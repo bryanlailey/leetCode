{
  "nbformat": 4,
  "nbformat_minor": 0,
  "metadata": {
    "colab": {
      "provenance": []
    },
    "kernelspec": {
      "name": "python3",
      "display_name": "Python 3"
    },
    "language_info": {
      "name": "python"
    }
  },
  "cells": [
    {
      "cell_type": "code",
      "execution_count": null,
      "metadata": {
        "colab": {
          "base_uri": "https://localhost:8080/"
        },
        "id": "G0qNuJgsJ0TM",
        "outputId": "e6af9f8d-e9f6-4697-e186-73ba1c7d49b0"
      },
      "outputs": [
        {
          "output_type": "execute_result",
          "data": {
            "text/plain": [
              "[0, 1]"
            ]
          },
          "metadata": {},
          "execution_count": 26
        }
      ],
      "source": [
        "# leetcode Two Sum problem\n",
        "# time complexity O(n^2) solution\n",
        "\n",
        "def two_sum(nums, target):\n",
        "      for i in range(len(nums)):\n",
        "           for j in range(i + 1, len(nums)):\n",
        "                if nums[j] == target - nums[i]:\n",
        "                    return [i, j]\n",
        "\n",
        "\n",
        "nums = [2, 7, 11, 15]\n",
        "target = 9\n",
        "\n",
        "two_sum(nums, target)"
      ]
    }
  ]
}